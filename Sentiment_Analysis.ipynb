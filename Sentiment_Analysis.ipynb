{
  "nbformat": 4,
  "nbformat_minor": 0,
  "metadata": {
    "colab": {
      "provenance": []
    },
    "kernelspec": {
      "name": "python3",
      "display_name": "Python 3"
    },
    "language_info": {
      "name": "python"
    }
  },
  "cells": [
    {
      "cell_type": "code",
      "execution_count": null,
      "metadata": {
        "id": "fwKTT1TuEWST"
      },
      "outputs": [],
      "source": [
        "!pip install transformers datasets torch\n",
        "!pip install huggingface_hub\n"
      ]
    },
    {
      "cell_type": "code",
      "source": [
        "import torch\n",
        "from transformers import AutoModelForSequenceClassification, AutoTokenizer\n",
        "from google.colab import drive\n",
        "import os\n",
        "\n",
        "drive.mount('/content/drive')\n",
        "\n",
        "model_name = \"nlptown/bert-base-multilingual-uncased-sentiment\"\n",
        "save_directory = \"/content/drive/MyDrive/sentiment_model/\""
      ],
      "metadata": {
        "id": "4oGknfdDL4vs"
      },
      "execution_count": null,
      "outputs": []
    },
    {
      "cell_type": "code",
      "source": [
        "def setup_sentiment_model():\n",
        "    \"\"\"\n",
        "    Set up and save the sentiment analysis model and tokenizer\n",
        "    Returns the paths for model and tokenizer\n",
        "    \"\"\"\n",
        "    # Create directory if it doesn't exist\n",
        "    if not os.path.exists(save_directory):\n",
        "        os.makedirs(save_directory)\n",
        "\n",
        "    # Load pre-trained model and tokenizer\n",
        "    model = AutoModelForSequenceClassification.from_pretrained(model_name)\n",
        "    tokenizer = AutoTokenizer.from_pretrained(model_name)\n",
        "\n",
        "    # Save model and tokenizer\n",
        "    model.save_pretrained(save_directory + \"model\")\n",
        "    tokenizer.save_pretrained(save_directory + \"tokenizer\")\n",
        "\n",
        "    # Get absolute paths\n",
        "    model_path = os.path.abspath(save_directory + \"model\")\n",
        "    tokenizer_path = os.path.abspath(save_directory + \"tokenizer\")\n",
        "\n",
        "    return model_path, tokenizer_path"
      ],
      "metadata": {
        "id": "7KapSPhCMCM1"
      },
      "execution_count": 19,
      "outputs": []
    },
    {
      "cell_type": "code",
      "source": [
        "def batch_test_sentiment(texts, model, tokenizer):\n",
        "    \"\"\"\n",
        "    Analyze sentiment for multiple texts with confidence scores\n",
        "    Args:\n",
        "        texts: List of strings to analyze\n",
        "        model: Loaded sentiment model\n",
        "        tokenizer: Loaded tokenizer\n",
        "    Returns:\n",
        "        List of dictionaries containing sentiment and confidence for each text\n",
        "    \"\"\"\n",
        "    results = []\n",
        "\n",
        "    for text in texts:\n",
        "        # Tokenize and get prediction\n",
        "        inputs = tokenizer(text, return_tensors=\"pt\", truncation=True, max_length=512)\n",
        "\n",
        "        with torch.no_grad():\n",
        "            outputs = model(**inputs)\n",
        "            probabilities = torch.nn.functional.softmax(outputs.logits, dim=-1)\n",
        "\n",
        "            # Get highest probability and its index\n",
        "            confidence, prediction = torch.max(probabilities, dim=1)\n",
        "            rating = prediction.item() + 1\n",
        "            confidence_score = confidence.item() * 100\n",
        "\n",
        "            # Map ratings to sentiments\n",
        "            sentiment_map = {\n",
        "                1: \"Very Negative\",\n",
        "                2: \"Negative\",\n",
        "                3: \"Neutral\",\n",
        "                4: \"Positive\",\n",
        "                5: \"Very Positive\"\n",
        "            }\n",
        "\n",
        "            results.append({\n",
        "                'text': text,\n",
        "                'sentiment': sentiment_map[rating],\n",
        "                'confidence': round(confidence_score, 2),\n",
        "                'rating': rating\n",
        "            })\n",
        "\n",
        "    return results\n"
      ],
      "metadata": {
        "id": "J32t1OULMCoP"
      },
      "execution_count": 27,
      "outputs": []
    },
    {
      "cell_type": "code",
      "source": [
        "test_texts = [\n",
        "    \"I hated the food but loved the ambience\",\n",
        "    \"i really really loved your posts, i fell in love with your vibe cuz u speak very lovingly. lots of love love love\",\n",
        "    \"This is the worst experience I've ever had.\",\n",
        "    \"The product has some good features but also some drawbacks.\",\n",
        "]\n",
        "\n",
        "\n",
        "results = batch_test_sentiment(test_texts, model, tokenizer)\n",
        "\n",
        "for result in results:\n",
        "    print(\"\\nText:\", result['text'])\n",
        "    print(f\"Sentiment: {result['sentiment']} (Rating: {result['rating']}/5)\")\n",
        "    print(f\"Confidence: {result['confidence']}%\")"
      ],
      "metadata": {
        "colab": {
          "base_uri": "https://localhost:8080/"
        },
        "id": "TTFD0x3AOnlO",
        "outputId": "a51ac8d1-3066-4bdc-ede3-b1468096354f"
      },
      "execution_count": 28,
      "outputs": [
        {
          "output_type": "stream",
          "name": "stdout",
          "text": [
            "\n",
            "Text: I hated the food but loved the ambience\n",
            "Sentiment: Positive (Rating: 4/5)\n",
            "Confidence: 34.08%\n",
            "\n",
            "Text: i really really loved your posts, i fell in love with your vibe cuz u speak very lovingly. lots of love love love\n",
            "Sentiment: Very Positive (Rating: 5/5)\n",
            "Confidence: 86.09%\n",
            "\n",
            "Text: This is the worst experience I've ever had.\n",
            "Sentiment: Very Negative (Rating: 1/5)\n",
            "Confidence: 93.8%\n",
            "\n",
            "Text: The product has some good features but also some drawbacks.\n",
            "Sentiment: Neutral (Rating: 3/5)\n",
            "Confidence: 66.9%\n"
          ]
        }
      ]
    },
    {
      "cell_type": "code",
      "source": [
        "model_path, tokenizer_path = setup_sentiment_model()\n",
        "print(f\"Model path: {model_path}\")\n",
        "print(f\"Tokenizer path: {tokenizer_path}\")"
      ],
      "metadata": {
        "id": "T4mGv3E7Q2Ui"
      },
      "execution_count": null,
      "outputs": []
    }
  ]
}